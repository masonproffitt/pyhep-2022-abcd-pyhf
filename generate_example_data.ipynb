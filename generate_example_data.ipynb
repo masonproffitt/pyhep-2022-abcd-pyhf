{
 "cells": [
  {
   "cell_type": "code",
   "execution_count": 1,
   "id": "3119d424",
   "metadata": {},
   "outputs": [],
   "source": [
    "import numpy as np"
   ]
  },
  {
   "cell_type": "code",
   "execution_count": 2,
   "id": "9c09f4db",
   "metadata": {},
   "outputs": [],
   "source": [
    "def gaussian_2d(mean, sigma, n, seed=None):\n",
    "    cov = ((sigma[0] ** 2, 0),\n",
    "           (0, sigma[1] ** 2))\n",
    "    return np.random.default_rng(seed).multivariate_normal(mean, cov, n).T"
   ]
  },
  {
   "cell_type": "code",
   "execution_count": 3,
   "id": "aae16c34",
   "metadata": {},
   "outputs": [],
   "source": [
    "def exponential_2d(sigma, n, seed=None):\n",
    "    rng = np.random.default_rng(seed)\n",
    "    x = rng.exponential(sigma[0], n)\n",
    "    y = rng.exponential(sigma[1], n)\n",
    "    return x, y"
   ]
  },
  {
   "cell_type": "code",
   "execution_count": 4,
   "id": "fbb01e0b",
   "metadata": {},
   "outputs": [],
   "source": [
    "signal_mean = (1.25, 1.5)\n",
    "signal_sigma = (0.5, 0.5)\n",
    "n_signal_mc = 10000\n",
    "n_signal_data = 10\n",
    "\n",
    "background_sigma = (1, 0.5)\n",
    "n_background = 500\n",
    "\n",
    "seed = 4"
   ]
  },
  {
   "cell_type": "code",
   "execution_count": 5,
   "id": "e35324cd",
   "metadata": {},
   "outputs": [],
   "source": [
    "n_signal_all = n_signal_mc + n_signal_data"
   ]
  },
  {
   "cell_type": "code",
   "execution_count": 6,
   "id": "f05afa14",
   "metadata": {},
   "outputs": [],
   "source": [
    "signal_all_x, signal_all_y = gaussian_2d(signal_mean, signal_sigma, n_signal_all, seed)\n",
    "background_data_x, background_data_y = exponential_2d(background_sigma, n_background, seed)"
   ]
  },
  {
   "cell_type": "code",
   "execution_count": 7,
   "id": "133474dd",
   "metadata": {},
   "outputs": [],
   "source": [
    "signal_mc_x = signal_all_x[:n_signal_mc]\n",
    "signal_mc_y = signal_all_y[:n_signal_mc]\n",
    "signal_data_x = signal_all_x[n_signal_mc:]\n",
    "signal_data_y = signal_all_y[n_signal_mc:]"
   ]
  },
  {
   "cell_type": "code",
   "execution_count": 8,
   "id": "5ff7e393",
   "metadata": {},
   "outputs": [],
   "source": [
    "signal_mc = np.stack([signal_mc_x, signal_mc_y], axis=1)\n",
    "signal_data = np.stack([signal_data_x, signal_data_y], axis=1)\n",
    "background_data = np.stack([background_data_x, background_data_y], axis=1)\n",
    "data = np.concatenate([signal_data, background_data])"
   ]
  },
  {
   "cell_type": "code",
   "execution_count": 9,
   "id": "97c1dd82",
   "metadata": {},
   "outputs": [],
   "source": [
    "np.savetxt('signal_mc.csv', signal_mc, delimiter=',')\n",
    "np.savetxt('data.csv', data, delimiter=',')"
   ]
  }
 ],
 "metadata": {
  "kernelspec": {
   "display_name": "Python 3 (ipykernel)",
   "language": "python",
   "name": "python3"
  },
  "language_info": {
   "codemirror_mode": {
    "name": "ipython",
    "version": 3
   },
   "file_extension": ".py",
   "mimetype": "text/x-python",
   "name": "python",
   "nbconvert_exporter": "python",
   "pygments_lexer": "ipython3",
   "version": "3.10.4"
  }
 },
 "nbformat": 4,
 "nbformat_minor": 5
}
